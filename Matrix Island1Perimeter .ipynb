{
 "cells": [
  {
   "cell_type": "code",
   "execution_count": 24,
   "metadata": {},
   "outputs": [],
   "source": [
    "#Given a 2D Matrix of 0 and 1, where 1 represents land ans 0 water, find the perimeter of the island.\n",
    "#An island here is group of cells connected vertically or horizontally but not diagonally.\n",
    "\n",
    "#Input to the funtion is a 2D matrix eg: A\n",
    "M=[[0,1,1,0],\n",
    "  [0,1,1,0],\n",
    "  [0,1,1,0],\n",
    "  [0,0,1,0]]\n",
    "def islandperimeter(Matrix):\n",
    "    A=Matrix\n",
    "    print(\"The Matrix given is: \", A)\n",
    "    p=0\n",
    "    for i in range(len(A)):\n",
    "        for j in range(len(A[i])):\n",
    "            if (A[i][j]==1):\n",
    "                if(i<len(A)-1):\n",
    "                    if (A[i+1][j]==0):\n",
    "                        p=p+1\n",
    "                else:\n",
    "                    p=p+1\n",
    "                if(j<len(A[i])-1):\n",
    "                    if(A[i][j+1]==0):\n",
    "                        p=p+1\n",
    "                else:\n",
    "                    p=p+1\n",
    "                if (i>0):\n",
    "                    if(A[i-1][j]==0):\n",
    "                        p=p+1\n",
    "                else:\n",
    "                    p=p+1\n",
    "                if (j>0):\n",
    "                    if(A[i][j-1]==0):\n",
    "                        p=p+1\n",
    "                else:\n",
    "                    p=p+1\n",
    "    print(\"Perimeter of the given matrix is: \",p)\n",
    "\n"
   ]
  },
  {
   "cell_type": "code",
   "execution_count": 31,
   "metadata": {},
   "outputs": [
    {
     "name": "stdout",
     "output_type": "stream",
     "text": [
      "The Matrix given is:  [[0, 1, 1, 0], [1, 1, 1, 0], [0, 0, 0, 1], [0, 1, 1, 0]]\n",
      "Perimeter of the given matrix is:  20\n"
     ]
    }
   ],
   "source": [
    "Mat=[[0,1,1,0],\n",
    "  [1,1,1,0],\n",
    "  [0,0,0,1],\n",
    "  [0,1,1,0]]\n",
    "islandperimeter(Mat)"
   ]
  },
  {
   "cell_type": "code",
   "execution_count": null,
   "metadata": {},
   "outputs": [],
   "source": []
  }
 ],
 "metadata": {
  "kernelspec": {
   "display_name": "Python 3",
   "language": "python",
   "name": "python3"
  },
  "language_info": {
   "codemirror_mode": {
    "name": "ipython",
    "version": 3
   },
   "file_extension": ".py",
   "mimetype": "text/x-python",
   "name": "python",
   "nbconvert_exporter": "python",
   "pygments_lexer": "ipython3",
   "version": "3.8.5"
  }
 },
 "nbformat": 4,
 "nbformat_minor": 4
}
