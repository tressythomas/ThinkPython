{
 "cells": [
  {
   "cell_type": "code",
   "execution_count": 1,
   "metadata": {},
   "outputs": [],
   "source": [
    "#Find if a string is rotatable of another string.\n",
    "#Eg: String1 = \"1234\", String1 = \"2341\", String 2 is a rotatable string of string1.\n",
    "#Function IsRotstring . @param1 - string to be checked against(master string)\n",
    "# @param2 - string that need to be checked. \n",
    "def IsRotstring(str1,str2):\n",
    "    l1=len(str1)\n",
    "    l2=len(str2)\n",
    "    for i in range (0,l1):\n",
    "        if (str1[i]==str2[0]):\n",
    "            k=i\n",
    "            for j in range(1,l2):\n",
    "                k=k+1\n",
    "                if (k==l1):\n",
    "                    k=0\n",
    "                if (str1[k]==str2[j]):\n",
    "                    if (j==l2-1):\n",
    "                        print(\"The string \", str2, \"is rotatable\", str1)\n",
    "                        break\n",
    "                else:\n",
    "                    if (j==l2-1): \n",
    "                        print(\"Strings are NOT rotatable\")\n",
    "                        break\n"
   ]
  },
  {
   "cell_type": "code",
   "execution_count": 7,
   "metadata": {},
   "outputs": [
    {
     "name": "stdout",
     "output_type": "stream",
     "text": [
      "The string  DABC is rotatable ABCD\n"
     ]
    }
   ],
   "source": [
    "strA='ABCD'\n",
    "strB='DABC'\n",
    "IsRotstring(strA,strB)"
   ]
  },
  {
   "cell_type": "code",
   "execution_count": null,
   "metadata": {},
   "outputs": [],
   "source": []
  }
 ],
 "metadata": {
  "kernelspec": {
   "display_name": "Python 3",
   "language": "python",
   "name": "python3"
  },
  "language_info": {
   "codemirror_mode": {
    "name": "ipython",
    "version": 3
   },
   "file_extension": ".py",
   "mimetype": "text/x-python",
   "name": "python",
   "nbconvert_exporter": "python",
   "pygments_lexer": "ipython3",
   "version": "3.8.5"
  }
 },
 "nbformat": 4,
 "nbformat_minor": 4
}
