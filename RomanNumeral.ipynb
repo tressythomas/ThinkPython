{
 "cells": [
  {
   "cell_type": "code",
   "execution_count": 16,
   "metadata": {},
   "outputs": [
    {
     "data": {
      "text/plain": [
       "'DCCCXCVII'"
      ]
     },
     "execution_count": 16,
     "metadata": {},
     "output_type": "execute_result"
    }
   ],
   "source": [
    "   \n",
    "Thousand=[\"\",\"M\"]\n",
    "Hundreds= [\"\", \"C\", \"CC\", \"CCC\", \"CD\", \"D\", \n",
    "           \"DC\", \"DCC\", \"DCCC\", \"CM \"]\n",
    "Tens =[\"\",\"X\", \"XX\", \"XXX\", \"XL\", \"L\", \n",
    "           \"LX\", \"LXX\", \"LXXX\", \"XC\" ]\n",
    "Units =[\"\",\"I\", \"II\", \"III\", \"IV\", \"V\", \n",
    "           \"VI\", \"VII\", \"VIII\", \"IX\"]\n",
    "num=897\n",
    "th=Thousand[num//1000]\n",
    "hun=Hundreds[num%1000//100]\n",
    "ten=Tens[num%100//10]\n",
    "unit=Units[num%10] \n",
    "roman= th+hun+ten+unit\n",
    "roman"
   ]
  },
  {
   "cell_type": "code",
   "execution_count": 13,
   "metadata": {},
   "outputs": [
    {
     "data": {
      "text/plain": [
       "34"
      ]
     },
     "execution_count": 13,
     "metadata": {},
     "output_type": "execute_result"
    }
   ],
   "source": []
  },
  {
   "cell_type": "code",
   "execution_count": null,
   "metadata": {},
   "outputs": [],
   "source": []
  },
  {
   "cell_type": "code",
   "execution_count": null,
   "metadata": {},
   "outputs": [],
   "source": []
  }
 ],
 "metadata": {
  "kernelspec": {
   "display_name": "Python 3",
   "language": "python",
   "name": "python3"
  },
  "language_info": {
   "codemirror_mode": {
    "name": "ipython",
    "version": 3
   },
   "file_extension": ".py",
   "mimetype": "text/x-python",
   "name": "python",
   "nbconvert_exporter": "python",
   "pygments_lexer": "ipython3",
   "version": "3.8.5"
  }
 },
 "nbformat": 4,
 "nbformat_minor": 4
}
