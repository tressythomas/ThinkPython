{
 "cells": [
  {
   "cell_type": "markdown",
   "metadata": {},
   "source": [
    "A clumsy simple soln to https://www.hackerrank.com/challenges/encryption/problem\n",
    "    \n",
    "An English text needs to be encrypted using the following encryption scheme.\n",
    "First, the spaces are removed from the text. Let  be the length of this text.\n",
    "Then, characters are written into a grid, whose rows and columns have the following constraints:\n",
    "\n",
    "Example:\n",
    "After removing spaces, the string is  characters long.  is between  and , so it is written in the form of a grid with 7 rows and 8 columns."
   ]
  },
  {
   "cell_type": "code",
   "execution_count": 2,
   "metadata": {},
   "outputs": [
    {
     "name": "stdout",
     "output_type": "stream",
     "text": [
      "7 8 56 54\n",
      "imtgdvs fearwer mayoogo anouuio ntnnlvt wttddes aohghn sseoau \n"
     ]
    }
   ],
   "source": [
    "import re\n",
    "import math\n",
    "import numpy as np\n",
    "s=\"if man was meant to stay on the ground god would have given us roots\"\n",
    "x = re.sub(\"\\s\", \"\", s)\n",
    "\n",
    "enc=\"\"\n",
    "f=\"\"\n",
    "k=1\n",
    "cols=math.floor(np.sqrt(len(x)))\n",
    "rows=cols\n",
    "if cols*cols < len(x):\n",
    "    cols=cols+1\n",
    "print(rows,cols, rows*cols,len(x))\n",
    "for i in range(cols):  \n",
    "    for j in range(cols):\n",
    "        #print(((j*cols)+i,x[(j*cols)+i:(j*cols)+i+1]))\n",
    "        enc=x[(j*cols)+i:(j*cols)+i+1]\n",
    "        f=f+enc\n",
    "    f=f+\" \"\n",
    "print(f)"
   ]
  },
  {
   "cell_type": "code",
   "execution_count": null,
   "metadata": {},
   "outputs": [],
   "source": []
  }
 ],
 "metadata": {
  "kernelspec": {
   "display_name": "Python 3",
   "language": "python",
   "name": "python3"
  },
  "language_info": {
   "codemirror_mode": {
    "name": "ipython",
    "version": 3
   },
   "file_extension": ".py",
   "mimetype": "text/x-python",
   "name": "python",
   "nbconvert_exporter": "python",
   "pygments_lexer": "ipython3",
   "version": "3.8.5"
  }
 },
 "nbformat": 4,
 "nbformat_minor": 4
}
