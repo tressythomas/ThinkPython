{
 "cells": [
  {
   "cell_type": "markdown",
   "metadata": {},
   "source": [
    "#### Most frequent outcome. \n",
    "###### We have two dice of different sizes (D1 and D2). \n",
    "###### We roll them and sum their face values. What are the most probable outcomes?"
   ]
  },
  {
   "cell_type": "code",
   "execution_count": 1,
   "metadata": {},
   "outputs": [
    {
     "name": "stdout",
     "output_type": "stream",
     "text": [
      "3 2\n",
      "4 2\n",
      "4 3\n",
      "5 3\n",
      "5 4\n",
      "6 4\n",
      "6 5\n",
      "7 5\n",
      "7 6\n",
      "Most frequent sum value is  7 that occurs  6  times\n"
     ]
    }
   ],
   "source": [
    "k=[]\n",
    "for i in range(1,7):\n",
    "    for j in range(1,7):\n",
    "        k.append(i+j)\n",
    "\n",
    "mx=2\n",
    "for i in range(len(k)):\n",
    "    c=0\n",
    "    for j in range(i,len(k)):\n",
    "        if k[i]==k[j]:\n",
    "            c=c+1\n",
    "            if c>=mx:\n",
    "                mx=c\n",
    "                sum_val=k[i]\n",
    "                print(sum_val,mx)\n",
    "        if i==len(k)-1:\n",
    "            print(\"Most frequent sum value is \", sum_val, \"that occurs \",mx,\" times\")\n",
    "                    \n",
    "\n",
    "        "
   ]
  },
  {
   "cell_type": "code",
   "execution_count": null,
   "metadata": {},
   "outputs": [],
   "source": []
  }
 ],
 "metadata": {
  "kernelspec": {
   "display_name": "Python 3",
   "language": "python",
   "name": "python3"
  },
  "language_info": {
   "codemirror_mode": {
    "name": "ipython",
    "version": 3
   },
   "file_extension": ".py",
   "mimetype": "text/x-python",
   "name": "python",
   "nbconvert_exporter": "python",
   "pygments_lexer": "ipython3",
   "version": "3.8.5"
  }
 },
 "nbformat": 4,
 "nbformat_minor": 4
}
